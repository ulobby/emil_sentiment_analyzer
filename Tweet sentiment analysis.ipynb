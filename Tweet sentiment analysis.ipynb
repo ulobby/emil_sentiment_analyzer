{
 "cells": [
  {
   "cell_type": "code",
   "execution_count": 24,
   "id": "d946c80c-8c34-463c-b24a-6c43aa2c6145",
   "metadata": {
    "tags": []
   },
   "outputs": [],
   "source": [
    "import requests\n",
    "import pandas as pd\n",
    "from pathlib import Path\n",
    "import json\n",
    "# Set config parameters for this project\n",
    "data_directory = Path('./data')\n",
    "out_directory = Path('./output')\n",
    "model_id = \"larskjeldgaard/senda\"\n",
    "api_token = \"\" # get yours at hf.co/settings/token\n",
    "csv_file = 'sample.csv'\n",
    "csv_path = data_directory / csv_file\n",
    "output_file = 'tweets_with_sentiment.csv'\n",
    "output_path = out_directory / output_file\n",
    "# Define the methods we will be using\n",
    "def query(payload, model_id, api_token):\n",
    "    headers = {\"Authorization\": f\"Bearer {api_token}\"}\n",
    "    API_URL = f\"https://api-inference.huggingface.co/models/{model_id}\"\n",
    "    response = requests.post(API_URL, headers=headers, json=payload)\n",
    "    return response.json()\n",
    "\n",
    "def get_sentiment(text):\n",
    "    response = query(text, model_id, api_token)\n",
    "    if type(response) is dict and 'error' in response:\n",
    "        raise Exception(str(response))\n",
    "    return {d['label']: d['score'] for d in response[0]}"
   ]
  },
  {
   "cell_type": "markdown",
   "id": "e48a6983-4e02-4f44-a93b-9bd198448068",
   "metadata": {},
   "source": [
    "First we read and clean up the CSV file that we have in our `data` directory"
   ]
  },
  {
   "cell_type": "code",
   "execution_count": 25,
   "id": "8f29cac3-e877-4b35-ab3d-151809eca0b7",
   "metadata": {},
   "outputs": [],
   "source": [
    "df = pd.read_csv(csv_path)\n",
    "df = df.fillna('')"
   ]
  },
  {
   "cell_type": "markdown",
   "id": "ceb14a0d-54d4-49cc-91f4-ccfc81bc1bc1",
   "metadata": {},
   "source": [
    "We can now get the sentiment for each Tweet in the CSV file. Know that it will take a bit and that it might fail for very long files."
   ]
  },
  {
   "cell_type": "code",
   "execution_count": 26,
   "id": "1f8927c9-7424-46de-9d31-40c841fdcca4",
   "metadata": {},
   "outputs": [],
   "source": [
    "cols = [get_sentiment(row) for row in df['text']]\n",
    "df_with_sentiment = df.join(pd.DataFrame(cols))"
   ]
  },
  {
   "cell_type": "markdown",
   "id": "f241feb0-e93f-44f1-8e39-f5b412950c27",
   "metadata": {},
   "source": [
    "Finally we dump the results to a CSV file in the output path"
   ]
  },
  {
   "cell_type": "code",
   "execution_count": 28,
   "id": "742fa385-19b0-443f-b8df-8b93b085bee9",
   "metadata": {},
   "outputs": [],
   "source": [
    "df.to_csv(output_path)"
   ]
  }
 ],
 "metadata": {
  "kernelspec": {
   "display_name": "Python 3 (ipykernel)",
   "language": "python",
   "name": "python3"
  },
  "language_info": {
   "codemirror_mode": {
    "name": "ipython",
    "version": 3
   },
   "file_extension": ".py",
   "mimetype": "text/x-python",
   "name": "python",
   "nbconvert_exporter": "python",
   "pygments_lexer": "ipython3",
   "version": "3.8.10"
  }
 },
 "nbformat": 4,
 "nbformat_minor": 5
}
